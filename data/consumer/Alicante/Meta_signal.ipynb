{
 "cells": [
  {
   "cell_type": "code",
   "execution_count": null,
   "id": "6f6bbd92",
   "metadata": {},
   "outputs": [],
   "source": [
    "import pandas as pd\n",
    "import numpy as np\n",
    "import matplotlib.pyplot as plt\n",
    "import datetime"
   ]
  },
  {
   "cell_type": "code",
   "execution_count": null,
   "id": "f02e79d1",
   "metadata": {},
   "outputs": [],
   "source": []
  },
  {
   "cell_type": "code",
   "execution_count": null,
   "id": "06213193",
   "metadata": {},
   "outputs": [],
   "source": [
    "data = pd.read_csv(\"alicante_salinity_EA001_36_level.csv\")\n",
    "metasignal = pd.read_csv(\"../../../log/Alicante/level_long_period_meta.csv\")\n",
    "\n",
    "fig, ax = plt.subplots(2, 1, figsize = (15, 8))\n",
    "\n",
    "ax[0].plot(pd.to_datetime(data['timestamp'], unit = 's'), data['value'])\n",
    "ax[1].plot(pd.to_datetime(metasignal['timestamp'], unit = 's'), metasignal['status_code'], c = 'r')\n",
    "\n",
    "ax[0].set_xlim([datetime.datetime(2022, 1, 22), datetime.datetime(2022, 3, 22)])\n",
    "ax[1].set_xlim([datetime.datetime(2022, 1, 22), datetime.datetime(2022, 3, 22)])"
   ]
  },
  {
   "cell_type": "code",
   "execution_count": null,
   "id": "5c998625",
   "metadata": {},
   "outputs": [],
   "source": [
    "data['timestamp'][10001] - data['timestamp'][1]"
   ]
  },
  {
   "cell_type": "code",
   "execution_count": null,
   "id": "0c291dec",
   "metadata": {},
   "outputs": [],
   "source": []
  }
 ],
 "metadata": {
  "kernelspec": {
   "display_name": "Python 3",
   "language": "python",
   "name": "python3"
  },
  "language_info": {
   "codemirror_mode": {
    "name": "ipython",
    "version": 3
   },
   "file_extension": ".py",
   "mimetype": "text/x-python",
   "name": "python",
   "nbconvert_exporter": "python",
   "pygments_lexer": "ipython3",
   "version": "3.8.5"
  }
 },
 "nbformat": 4,
 "nbformat_minor": 5
}
