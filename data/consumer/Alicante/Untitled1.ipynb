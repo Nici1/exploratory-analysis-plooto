{
 "cells": [
  {
   "cell_type": "code",
   "execution_count": null,
   "id": "3fe7804f",
   "metadata": {},
   "outputs": [],
   "source": [
    "import pandas as pd\n",
    "import matplotlib.pyplot as plt"
   ]
  },
  {
   "cell_type": "code",
   "execution_count": null,
   "id": "c39613b2",
   "metadata": {},
   "outputs": [],
   "source": [
    "data = pd.read_csv(\"Muelle_poniente.csv\", sep = ';')"
   ]
  },
  {
   "cell_type": "code",
   "execution_count": null,
   "id": "7abc3116",
   "metadata": {},
   "outputs": [],
   "source": [
    "display(data[:6000])"
   ]
  },
  {
   "cell_type": "code",
   "execution_count": null,
   "id": "97c4abb0",
   "metadata": {},
   "outputs": [],
   "source": [
    "data1 = pd.DataFrame({\n",
    "    \"timestamp\": pd.to_datetime(data['EA001-36'], dayfirst = True),\n",
    "    \"value\": data['Unnamed: 1']\n",
    "}).dropna()\n",
    "data2 = pd.DataFrame({\n",
    "    \"timestamp\": pd.to_datetime(data['EA003-36'], dayfirst = True),\n",
    "    \"value\": data['Unnamed: 3']\n",
    "}).dropna()\n",
    "data3 = pd.DataFrame({\n",
    "    \"timestamp\": pd.to_datetime(data['EA008-36'], dayfirst = True),\n",
    "    \"value\": data['Unnamed: 5']\n",
    "}).dropna()"
   ]
  },
  {
   "cell_type": "code",
   "execution_count": null,
   "id": "0ba637ae",
   "metadata": {},
   "outputs": [],
   "source": [
    "data1['timestamp'] = [(data1['timestamp'].values[i] - pd.Timestamp(\"1970-01-01\")) / pd.Timedelta('1s') for i in range(len(data1))]\n",
    "data2['timestamp'] = [(data2['timestamp'].values[i] - pd.Timestamp(\"1970-01-01\")) / pd.Timedelta('1s') for i in range(len(data2))]\n",
    "data3['timestamp'] = [(data3['timestamp'].values[i] - pd.Timestamp(\"1970-01-01\")) / pd.Timedelta('1s') for i in range(len(data3))]\n",
    "\n",
    "data1['value'] = [float(a.replace(',', '.')) for i, a in enumerate(data1['value'].values)]\n",
    "data2['value'] = [float(a.replace(',', '.')) for i, a in enumerate(data2['value'].values)]\n",
    "data3['value'] = [float(a.replace(',', '.')) for i, a in enumerate(data3['value'].values)]"
   ]
  },
  {
   "cell_type": "code",
   "execution_count": null,
   "id": "f507a7e5",
   "metadata": {},
   "outputs": [],
   "source": [
    "display(data1)\n",
    "display(data2)\n",
    "display(data3)\n",
    "\n",
    "data1.to_csv(\"alicante_anomalous_event1.csv\", index = False)\n",
    "data2.to_csv(\"alicante_anomalous_event2.csv\", index = False)\n",
    "data3.to_csv(\"alicante_anomalous_event3.csv\", index = False)"
   ]
  },
  {
   "cell_type": "code",
   "execution_count": null,
   "id": "23db900e",
   "metadata": {
    "scrolled": true
   },
   "outputs": [],
   "source": [
    "meta_signal = pd.read_csv(\"../../../log/Alicante/cond_2_meta.csv\")\n",
    "#expl = pd.read_csv(\"Explanada.csv\", sep = ';')[:-1]\n",
    "#display(expl)\n",
    "\n",
    "\n",
    "fig, ax = plt.subplots(1, 1, figsize = (15, 5))\n",
    "\n",
    "ax.plot(pd.to_datetime(data2['timestamp'].values, unit = 's'), data2['value']/1.2e4)\n",
    "#ax.plot(pd.to_datetime(expl['EA002-26'].values, dayfirst = True),[float(i.replace(',', '.')) for i in expl['Unnamed: 1']])\n",
    "\n",
    "ax.plot(pd.to_datetime(meta_signal['timestamp'].values, unit = 's'), meta_signal['status_code'])\n",
    "ax.set_xlim([pd.datetime(2022, 2, 1), pd.datetime(2022, 2, 18)])\n"
   ]
  },
  {
   "cell_type": "code",
   "execution_count": null,
   "id": "d67e1060",
   "metadata": {},
   "outputs": [],
   "source": []
  },
  {
   "cell_type": "code",
   "execution_count": null,
   "id": "59e4b8b0",
   "metadata": {},
   "outputs": [],
   "source": [
    "meta_signal = pd.read_csv(\"../../../log/Alicante/cond_long_period_meta1.csv\")\n",
    "\n",
    "meta_signal_norm = pd.read_csv(\"../../../log/Alicante/salinity_norm_1_meta.csv\")\n",
    "#expl = pd.read_csv(\"Explanada.csv\", sep = ';')[:-1]\n",
    "\n",
    "salinity = pd.read_csv(\"alicante_salinity_EA003_36_conductivity.csv\")\n",
    "level = pd.read_csv(\"alicante_salinity_EA001_36_level.csv\")\n",
    "\n",
    "fig, ax = plt.subplots(3, 1, figsize = (15, 8))\n",
    "\n",
    "ax[0].plot(pd.to_datetime(salinity['timestamp'].values, unit = 's'), salinity['value'], lw = 0.5)\n",
    "#ax.plot(pd.to_datetime(expl['EA002-26'].values, dayfirst = True), [float(i.replace(',', '.')) for i in expl['Unnamed: 1']])\n",
    "\n",
    "ax[1].plot(pd.to_datetime(meta_signal['timestamp'].values, unit = 's'), meta_signal['status_code'], c = 'r')\n",
    "\n",
    "#ax[1].plot(pd.to_datetime(meta_signal_norm['timestamp'].values, unit = 's'), meta_signal_norm['status'], c = 'b')\n",
    "\n",
    "ax[2].plot(pd.to_datetime(level['time'].values, unit = 's'), level['value'])\n",
    "\n",
    "\n",
    "year = 2021\n",
    "month = 10\n",
    "ax[0].set_xlim([pd.datetime(2021, month, 1), pd.datetime(2021, month, 30)])\n",
    "ax[0].set_title('conductivity')\n",
    "ax[1].set_xlim([pd.datetime(2021, month, 1), pd.datetime(2021, month, 30)])\n",
    "ax[1].set_title('anomaly meta signal')\n",
    "ax[1].set_ylim([-0.10, 1])\n",
    "ax[2].set_xlim([pd.datetime(2021, month, 1), pd.datetime(2021, month, 30)])\n",
    "ax[2].set_title('level')\n",
    "\n",
    "#ax.set_ylim([-1000, 17000])"
   ]
  },
  {
   "cell_type": "code",
   "execution_count": null,
   "id": "17b208ce",
   "metadata": {},
   "outputs": [],
   "source": [
    "norm = pd.read_csv(\"salinity_norm_1.csv\")\n",
    "display(norm)\n",
    "fig, ax = plt.subplots(1, 1, figsize = (15, 4))\n",
    "plt.plot(pd.to_datetime(norm['time'].values), norm['normalized_salinity'])\n",
    "plt.ylim([-10, 30])"
   ]
  },
  {
   "cell_type": "code",
   "execution_count": null,
   "id": "89ddc785",
   "metadata": {},
   "outputs": [],
   "source": [
    "o = pd.DataFrame({\n",
    "    'timestamp': (pd.to_datetime(norm['time']) - pd.Timestamp(\"1970-01-01\"))/ pd.Timedelta('1s'),\n",
    "    'value': norm['normalized_salinity']\n",
    "})\n",
    "o.to_csv(\"norm1.csv\", index = False)\n"
   ]
  },
  {
   "cell_type": "code",
   "execution_count": null,
   "id": "ebf76a25",
   "metadata": {},
   "outputs": [],
   "source": []
  },
  {
   "cell_type": "code",
   "execution_count": null,
   "id": "e4551983",
   "metadata": {},
   "outputs": [],
   "source": []
  }
 ],
 "metadata": {
  "kernelspec": {
   "display_name": "Python 3",
   "language": "python",
   "name": "python3"
  },
  "language_info": {
   "codemirror_mode": {
    "name": "ipython",
    "version": 3
   },
   "file_extension": ".py",
   "mimetype": "text/x-python",
   "name": "python",
   "nbconvert_exporter": "python",
   "pygments_lexer": "ipython3",
   "version": "3.8.5"
  }
 },
 "nbformat": 4,
 "nbformat_minor": 5
}
