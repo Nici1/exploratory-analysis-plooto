{
 "cells": [
  {
   "cell_type": "code",
   "execution_count": null,
   "id": "92822dab",
   "metadata": {},
   "outputs": [],
   "source": [
    "import pandas as pd\n",
    "import numpy as np\n",
    "import matplotlib.pyplot as plt"
   ]
  },
  {
   "cell_type": "code",
   "execution_count": null,
   "id": "75acea8a",
   "metadata": {},
   "outputs": [],
   "source": [
    "#data = pd.read_csv(\"braila_flow318505H498.csv\")\n",
    "#data = pd.read_csv(\"braila_flow211106H360.csv\")\n",
    "data = pd.read_csv(\"braila_flow211306H360.csv\")\n",
    "#data = pd.read_csv(\"braila_flow211206H360.csv\")\n",
    "display(data)\n"
   ]
  },
  {
   "cell_type": "code",
   "execution_count": null,
   "id": "524738e0",
   "metadata": {},
   "outputs": [],
   "source": [
    "o = pd.DataFrame({\n",
    "    \"timestamp\": data['time'].values[100000:],\n",
    "    \"value\": data['flow_rate_value'].values[100000:]\n",
    "})\n",
    "o = o.dropna()\n",
    "display(o)\n",
    "plt.plot(o[:10000]['value'])\n",
    "#o.to_csv(\"flow211306H360.csv\", index = False)"
   ]
  },
  {
   "cell_type": "code",
   "execution_count": null,
   "id": "71fd6a99",
   "metadata": {},
   "outputs": [],
   "source": [
    "meta_signal = pd.read_csv(\"../../../log/Braila/flow211306H360_meta.csv\")\n",
    "#meta_signal = pd.read_csv(\"../../../log/Braila/flow318505H498_meta.csv\")\n",
    "\n",
    "fig, ax = plt.subplots(2, 1, figsize = (15, 8))\n",
    "\n",
    "ax[0].plot(pd.to_datetime(o['timestamp'].values, unit = 's'), o['value'])\n",
    "#ax.plot(pd.to_datetime(expl['EA002-26'].values, dayfirst = True), [float(i.replace(',', '.')) for i in expl['Unnamed: 1']])\n",
    "\n",
    "ax[1].plot(pd.to_datetime(meta_signal['timestamp'].values, unit = 's'), meta_signal['status'], c = 'r')\n",
    "\n",
    "year = 2021\n",
    "month = 9\n",
    "num_months = 1\n",
    "\n",
    "ax[0].set_xlim([pd.datetime(year, month, 1), pd.datetime(year, month + num_months, 28)])\n",
    "ax[1].set_xlim([pd.datetime(year, month, 1), pd.datetime(year, month + num_months, 28)])\n",
    "ax[0].set_ylim([-0, 200])\n",
    "ax[1].set_ylim([-0.001, 0.5])\n",
    "\n",
    "#ax[0].axvline(x = pd.datetime(year, month, 10))\n",
    "\n",
    "ax[0].set_xlim([pd.datetime(2021, 12, 20), pd.datetime(2022, 1, 10)])\n",
    "ax[1].set_xlim([pd.datetime(2021, 12, 20), pd.datetime(2022, 1, 10)])\n",
    "\n"
   ]
  },
  {
   "cell_type": "code",
   "execution_count": null,
   "id": "62b2f0a2",
   "metadata": {},
   "outputs": [],
   "source": [
    "display(meta_signal)"
   ]
  },
  {
   "cell_type": "code",
   "execution_count": null,
   "id": "72eed505",
   "metadata": {},
   "outputs": [],
   "source": []
  }
 ],
 "metadata": {
  "kernelspec": {
   "display_name": "Python 3",
   "language": "python",
   "name": "python3"
  },
  "language_info": {
   "codemirror_mode": {
    "name": "ipython",
    "version": 3
   },
   "file_extension": ".py",
   "mimetype": "text/x-python",
   "name": "python",
   "nbconvert_exporter": "python",
   "pygments_lexer": "ipython3",
   "version": "3.8.5"
  }
 },
 "nbformat": 4,
 "nbformat_minor": 5
}
