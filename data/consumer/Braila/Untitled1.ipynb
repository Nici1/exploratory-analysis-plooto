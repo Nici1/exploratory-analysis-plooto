{
 "cells": [
  {
   "cell_type": "code",
   "execution_count": null,
   "id": "3fe7804f",
   "metadata": {},
   "outputs": [],
   "source": [
    "import pandas as pd\n",
    "import matplotlib.pyplot as plt"
   ]
  },
  {
   "cell_type": "code",
   "execution_count": null,
   "id": "c39613b2",
   "metadata": {},
   "outputs": [],
   "source": [
    "data = pd.read_csv(\"Muelle_poniente.csv\", sep = ';')"
   ]
  },
  {
   "cell_type": "code",
   "execution_count": null,
   "id": "7abc3116",
   "metadata": {},
   "outputs": [],
   "source": [
    "display(data[:6000])"
   ]
  },
  {
   "cell_type": "code",
   "execution_count": null,
   "id": "97c4abb0",
   "metadata": {},
   "outputs": [],
   "source": [
    "data1 = pd.DataFrame({\n",
    "    \"timestamp\": pd.to_datetime(data['EA001-36'], dayfirst = True),\n",
    "    \"value\": data['Unnamed: 1']\n",
    "}).dropna()\n",
    "data2 = pd.DataFrame({\n",
    "    \"timestamp\": pd.to_datetime(data['EA003-36'], dayfirst = True),\n",
    "    \"value\": data['Unnamed: 3']\n",
    "}).dropna()\n",
    "data3 = pd.DataFrame({\n",
    "    \"timestamp\": pd.to_datetime(data['EA008-36'], dayfirst = True),\n",
    "    \"value\": data['Unnamed: 5']\n",
    "}).dropna()"
   ]
  },
  {
   "cell_type": "code",
   "execution_count": null,
   "id": "0ba637ae",
   "metadata": {},
   "outputs": [],
   "source": [
    "data1['timestamp'] = [(data1['timestamp'].values[i] - pd.Timestamp(\"1970-01-01\")) / pd.Timedelta('1s') for i in range(len(data1))]\n",
    "data2['timestamp'] = [(data2['timestamp'].values[i] - pd.Timestamp(\"1970-01-01\")) / pd.Timedelta('1s') for i in range(len(data2))]\n",
    "data3['timestamp'] = [(data3['timestamp'].values[i] - pd.Timestamp(\"1970-01-01\")) / pd.Timedelta('1s') for i in range(len(data3))]\n",
    "\n",
    "data1['value'] = [float(a.replace(',', '.')) for i, a in enumerate(data1['value'].values)]\n",
    "data2['value'] = [float(a.replace(',', '.')) for i, a in enumerate(data2['value'].values)]\n",
    "data3['value'] = [float(a.replace(',', '.')) for i, a in enumerate(data3['value'].values)]"
   ]
  },
  {
   "cell_type": "code",
   "execution_count": null,
   "id": "f507a7e5",
   "metadata": {},
   "outputs": [],
   "source": [
    "display(data1)\n",
    "display(data2)\n",
    "display(data3)\n",
    "\n",
    "data1.to_csv(\"alicante_anomalous_event1.csv\", index = False)\n",
    "data2.to_csv(\"alicante_anomalous_event2.csv\", index = False)\n",
    "data3.to_csv(\"alicante_anomalous_event3.csv\", index = False)"
   ]
  },
  {
   "cell_type": "code",
   "execution_count": null,
   "id": "23db900e",
   "metadata": {},
   "outputs": [],
   "source": [
    "meta_signal = pd.read_csv(\"../../../log/Alicante/alicante_test2.csv\")\n",
    "expl = pd.read_csv(\"Explanada.csv\", sep = ';')[:-1]\n",
    "display(expl)\n",
    "\n",
    "\n",
    "fig, ax = plt.subplots(1, 1, figsize = (15, 5))\n",
    "\n",
    "ax.plot(pd.to_datetime(data2['timestamp'].values, unit = 's'), data2['value']/3e3)\n",
    "#ax.plot(pd.to_datetime(expl['EA002-26'].values, dayfirst = True), [float(i.replace(',', '.')) for i in expl['Unnamed: 1']])\n",
    "\n",
    "ax.plot(pd.to_datetime(meta_signal['timestamp'].values, unit = 's'), meta_signal['status']*1000)\n",
    "ax.set_xlim([pd.datetime(2022, 2, 1), pd.datetime(2022, 2, 18)])\n"
   ]
  },
  {
   "cell_type": "code",
   "execution_count": null,
   "id": "d67e1060",
   "metadata": {},
   "outputs": [],
   "source": []
  },
  {
   "cell_type": "code",
   "execution_count": null,
   "id": "59e4b8b0",
   "metadata": {},
   "outputs": [],
   "source": [
    "meta_signal = pd.read_csv(\"../../../log/Alicante/alicante_salinity_long_period.csv\")\n",
    "#expl = pd.read_csv(\"Explanada.csv\", sep = ';')[:-1]\n",
    "\n",
    "salinity = pd.read_csv(\"alicante_salinity_EA003_36_conductivity.csv\")\n",
    "level = pd.read_csv(\"alicante_salinity_EA001_36_level.csv\")\n",
    "\n",
    "fig, ax = plt.subplots(3, 1, figsize = (15, 8))\n",
    "\n",
    "ax[0].plot(pd.to_datetime(salinity['timestamp'].values, unit = 's'), salinity['value'], lw = 0.5)\n",
    "#ax.plot(pd.to_datetime(expl['EA002-26'].values, dayfirst = True), [float(i.replace(',', '.')) for i in expl['Unnamed: 1']])\n",
    "\n",
    "ax[1].plot(pd.to_datetime(meta_signal['timestamp'].values, unit = 's'), meta_signal['status'], c = 'r')\n",
    "ax[2].plot(pd.to_datetime(level['time'].values, unit = 's'), level['value'])\n",
    "\n",
    "\n",
    "ax[0].set_xlim([pd.datetime(2021, 11, 10), pd.datetime(2021, 11, 27)])\n",
    "ax[0].set_title('conductivity')\n",
    "ax[1].set_xlim([pd.datetime(2021, 11, 10), pd.datetime(2021, 11, 27)])\n",
    "ax[1].set_title('anomaly meta signal')\n",
    "ax[2].set_xlim([pd.datetime(2021, 11, 10), pd.datetime(2021, 11, 27)])\n",
    "ax[2].set_title('level')\n",
    "\n",
    "#ax.set_ylim([-1000, 17000])"
   ]
  },
  {
   "cell_type": "code",
   "execution_count": null,
   "id": "17b208ce",
   "metadata": {},
   "outputs": [],
   "source": [
    "display(meta_signal)"
   ]
  },
  {
   "cell_type": "code",
   "execution_count": null,
   "id": "89ddc785",
   "metadata": {},
   "outputs": [],
   "source": []
  }
 ],
 "metadata": {
  "kernelspec": {
   "display_name": "Python 3",
   "language": "python",
   "name": "python3"
  },
  "language_info": {
   "codemirror_mode": {
    "name": "ipython",
    "version": 3
   },
   "file_extension": ".py",
   "mimetype": "text/x-python",
   "name": "python",
   "nbconvert_exporter": "python",
   "pygments_lexer": "ipython3",
   "version": "3.8.5"
  }
 },
 "nbformat": 4,
 "nbformat_minor": 5
}
