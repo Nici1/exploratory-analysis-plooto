{
 "cells": [
  {
   "cell_type": "code",
   "execution_count": null,
   "id": "0dc96b21",
   "metadata": {},
   "outputs": [],
   "source": [
    "import numpy as np\n",
    "import pandas as pd\n",
    "import matplotlib.pyplot as plt"
   ]
  },
  {
   "cell_type": "code",
   "execution_count": null,
   "id": "ab879348",
   "metadata": {},
   "outputs": [],
   "source": [
    "pressure = pd.read_csv(\"braila_pressure5773.csv\")\n",
    "\n",
    "fig, ax = plt.subplots(1, 1, figsize = (15, 4))\n",
    "plt.plot(pd.to_datetime(pressure['timestamp'][15000:], unit = 's'), pressure['value'][15000:])\n",
    "plt.ylim([12, 25])"
   ]
  },
  {
   "cell_type": "code",
   "execution_count": null,
   "id": "7a9ae1a6",
   "metadata": {},
   "outputs": [],
   "source": []
  },
  {
   "cell_type": "code",
   "execution_count": null,
   "id": "dc3e5261",
   "metadata": {},
   "outputs": [],
   "source": [
    "meta_signal = pd.read_csv(\"../../../log/Braila/pressure5773_meta.csv\")\n",
    "\n",
    "fig, ax = plt.subplots(2, 1, figsize = (15, 8))\n",
    "\n",
    "ax[0].plot(pd.to_datetime(pressure['timestamp'].values, unit = 's'), pressure['value'])\n",
    "#ax.plot(pd.to_datetime(expl['EA002-26'].values, dayfirst = True), [float(i.replace(',', '.')) for i in expl['Unnamed: 1']])\n",
    "\n",
    "ax[1].plot(pd.to_datetime(meta_signal['timestamp'].values, unit = 's'), meta_signal['status'], c = 'r')\n",
    "\n",
    "year = 2021\n",
    "month = 12\n",
    "num_months = 0\n",
    "\n",
    "ax[0].set_xlim([pd.datetime(year, month, 1), pd.datetime(year, month + num_months, 28)])\n",
    "ax[1].set_xlim([pd.datetime(year, month, 1), pd.datetime(year, month + num_months, 28)])\n",
    "ax[0].set_ylim([10, 25])\n",
    "ax[1].set_ylim([-0.001, 0.5])\n",
    "\n",
    "#ax[0].axvline(x = pd.datetime(year, month, 10))\n",
    "\n",
    "#ax[0].set_xlim([pd.datetime(2021, 12, 20), pd.datetime(2022, 1, 10)])\n",
    "#ax[1].set_xlim([pd.datetime(2021, 12, 20), pd.datetime(2022, 1, 10)])"
   ]
  },
  {
   "cell_type": "code",
   "execution_count": null,
   "id": "f4233091",
   "metadata": {},
   "outputs": [],
   "source": [
    "pd.to_datetime(meta_signal['timestamp'], unit = 's')"
   ]
  },
  {
   "cell_type": "code",
   "execution_count": null,
   "id": "bd8abb6b",
   "metadata": {},
   "outputs": [],
   "source": []
  }
 ],
 "metadata": {
  "kernelspec": {
   "display_name": "Python 3",
   "language": "python",
   "name": "python3"
  },
  "language_info": {
   "codemirror_mode": {
    "name": "ipython",
    "version": 3
   },
   "file_extension": ".py",
   "mimetype": "text/x-python",
   "name": "python",
   "nbconvert_exporter": "python",
   "pygments_lexer": "ipython3",
   "version": "3.8.5"
  }
 },
 "nbformat": 4,
 "nbformat_minor": 5
}
