{
 "cells": [
  {
   "cell_type": "code",
   "execution_count": 1,
   "metadata": {},
   "outputs": [
    {
     "name": "stdout",
     "output_type": "stream",
     "text": [
      "[12, 10, 15, 16, 5]\n",
      "[10, 15, 16, 5]\n"
     ]
    }
   ],
   "source": [
    "m = [12,10,15,16]\n",
    "m.append(5)\n",
    "print(m)\n",
    "m.pop(0)\n",
    "print(m)"
   ]
  },
  {
   "cell_type": "code",
   "execution_count": 2,
   "metadata": {},
   "outputs": [
    {
     "name": "stdout",
     "output_type": "stream",
     "text": [
      "[5, 16, 15, 10]\n"
     ]
    }
   ],
   "source": [
    "print(m[::-1])"
   ]
  },
  {
   "cell_type": "code",
   "execution_count": 3,
   "metadata": {},
   "outputs": [],
   "source": [
    "from ast import literal_eval"
   ]
  },
  {
   "cell_type": "code",
   "execution_count": 4,
   "metadata": {},
   "outputs": [
    {
     "name": "stdout",
     "output_type": "stream",
     "text": [
      "[16.8, 16.9, 17.0, 17.1, 17.2, 17.1, 17.1, 17.1, 17.2, 17.3]\n"
     ]
    }
   ],
   "source": [
    "m = \"[16.8, 16.9, 17.0, 17.1, 17.2, 17.1, 17.1, 17.1, 17.2, 17.3]\"\n",
    "print(literal_eval(m))"
   ]
  },
  {
   "cell_type": "code",
   "execution_count": 5,
   "metadata": {},
   "outputs": [
    {
     "data": {
      "text/html": [
       "<div>\n",
       "<style scoped>\n",
       "    .dataframe tbody tr th:only-of-type {\n",
       "        vertical-align: middle;\n",
       "    }\n",
       "\n",
       "    .dataframe tbody tr th {\n",
       "        vertical-align: top;\n",
       "    }\n",
       "\n",
       "    .dataframe thead th {\n",
       "        text-align: right;\n",
       "    }\n",
       "</style>\n",
       "<table border=\"1\" class=\"dataframe\">\n",
       "  <thead>\n",
       "    <tr style=\"text-align: right;\">\n",
       "      <th></th>\n",
       "      <th>0</th>\n",
       "      <th>1</th>\n",
       "      <th>2</th>\n",
       "      <th>3</th>\n",
       "      <th>4</th>\n",
       "    </tr>\n",
       "  </thead>\n",
       "  <tbody>\n",
       "    <tr>\n",
       "      <th>0</th>\n",
       "      <td>19.3</td>\n",
       "      <td>18.5</td>\n",
       "      <td>15.6</td>\n",
       "      <td>14.7</td>\n",
       "      <td>13.6</td>\n",
       "    </tr>\n",
       "  </tbody>\n",
       "</table>\n",
       "</div>"
      ],
      "text/plain": [
       "      0     1     2     3     4\n",
       "0  19.3  18.5  15.6  14.7  13.6"
      ]
     },
     "execution_count": 5,
     "metadata": {},
     "output_type": "execute_result"
    }
   ],
   "source": [
    "import pandas as pd\n",
    "import numpy as np\n",
    "from scipy.spatial import distance\n",
    "\n",
    "\n",
    "t = np.array([[19.3, 18.5, 15.6, 14.7, 13.6]])\n",
    "\n",
    "df = pd.DataFrame(t)\n",
    "df.head()"
   ]
  },
  {
   "cell_type": "code",
   "execution_count": 6,
   "metadata": {},
   "outputs": [
    {
     "name": "stdout",
     "output_type": "stream",
     "text": [
      "[17.6 14.5]\n"
     ]
    }
   ],
   "source": [
    "print(np.array(literal_eval('[17.6, 18.9, 14.5, 15.6, 18.9]'))[[0,2]])"
   ]
  },
  {
   "cell_type": "code",
   "execution_count": 7,
   "metadata": {},
   "outputs": [
    {
     "name": "stdout",
     "output_type": "stream",
     "text": [
      "<class 'str'>\n"
     ]
    }
   ],
   "source": [
    "print(type(\"[17.6, 18.9, 14.5, 15.6, 18.9]\"))"
   ]
  },
  {
   "cell_type": "code",
   "execution_count": 8,
   "metadata": {},
   "outputs": [
    {
     "name": "stdout",
     "output_type": "stream",
     "text": [
      "<class 'list'>\n",
      "[15.4, 23.5]\n",
      "[15.4 23.5]\n"
     ]
    }
   ],
   "source": [
    "t = [12.1, 15.4, 16.1, 17.8, 23.5, 15.5]\n",
    "print(type(t))\n",
    "print(list(np.array(t)[[1, 4]]))\n",
    "print(np.array(t)[[1, 4]])"
   ]
  },
  {
   "cell_type": "code",
   "execution_count": 9,
   "metadata": {},
   "outputs": [],
   "source": [
    "import pandas as pd\n",
    "from sklearn.cluster import KMeans"
   ]
  },
  {
   "cell_type": "code",
   "execution_count": 10,
   "metadata": {},
   "outputs": [
    {
     "data": {
      "text/html": [
       "<div>\n",
       "<style scoped>\n",
       "    .dataframe tbody tr th:only-of-type {\n",
       "        vertical-align: middle;\n",
       "    }\n",
       "\n",
       "    .dataframe tbody tr th {\n",
       "        vertical-align: top;\n",
       "    }\n",
       "\n",
       "    .dataframe thead th {\n",
       "        text-align: right;\n",
       "    }\n",
       "</style>\n",
       "<table border=\"1\" class=\"dataframe\">\n",
       "  <thead>\n",
       "    <tr style=\"text-align: right;\">\n",
       "      <th></th>\n",
       "      <th>timestamp</th>\n",
       "      <th>ftr_vector</th>\n",
       "    </tr>\n",
       "  </thead>\n",
       "  <tbody>\n",
       "    <tr>\n",
       "      <th>0</th>\n",
       "      <td>1.607823e+09</td>\n",
       "      <td>[16.8, 16.9, 17.0, 17.1, 17.2, 17.1, 17.1, 17....</td>\n",
       "    </tr>\n",
       "    <tr>\n",
       "      <th>1</th>\n",
       "      <td>1.607824e+09</td>\n",
       "      <td>[16.9, 17.0, 17.1, 17.2, 17.1, 17.1, 17.1, 17....</td>\n",
       "    </tr>\n",
       "    <tr>\n",
       "      <th>2</th>\n",
       "      <td>1.607825e+09</td>\n",
       "      <td>[17.0, 17.1, 17.2, 17.1, 17.1, 17.1, 17.2, 17....</td>\n",
       "    </tr>\n",
       "    <tr>\n",
       "      <th>3</th>\n",
       "      <td>1.607826e+09</td>\n",
       "      <td>[17.1, 17.2, 17.1, 17.1, 17.1, 17.2, 17.3, 17....</td>\n",
       "    </tr>\n",
       "    <tr>\n",
       "      <th>4</th>\n",
       "      <td>1.607827e+09</td>\n",
       "      <td>[17.2, 17.1, 17.1, 17.1, 17.2, 17.3, 17.2, 17....</td>\n",
       "    </tr>\n",
       "  </tbody>\n",
       "</table>\n",
       "</div>"
      ],
      "text/plain": [
       "      timestamp                                         ftr_vector\n",
       "0  1.607823e+09  [16.8, 16.9, 17.0, 17.1, 17.2, 17.1, 17.1, 17....\n",
       "1  1.607824e+09  [16.9, 17.0, 17.1, 17.2, 17.1, 17.1, 17.1, 17....\n",
       "2  1.607825e+09  [17.0, 17.1, 17.2, 17.1, 17.1, 17.1, 17.2, 17....\n",
       "3  1.607826e+09  [17.1, 17.2, 17.1, 17.1, 17.1, 17.2, 17.3, 17....\n",
       "4  1.607827e+09  [17.2, 17.1, 17.1, 17.1, 17.2, 17.3, 17.2, 17...."
      ]
     },
     "execution_count": 10,
     "metadata": {},
     "output_type": "execute_result"
    }
   ],
   "source": [
    "df = pd.read_csv('../data/training/braila_pressure5770.csv')\n",
    "df.head()"
   ]
  },
  {
   "cell_type": "code",
   "execution_count": 11,
   "metadata": {},
   "outputs": [
    {
     "data": {
      "text/plain": [
       "[16.8, 16.9, 17.0, 17.1, 17.2, 17.1, 17.1, 17.1, 17.2, 17.3]"
      ]
     },
     "execution_count": 11,
     "metadata": {},
     "output_type": "execute_result"
    }
   ],
   "source": [
    "literal_eval(df['ftr_vector'][0])"
   ]
  },
  {
   "cell_type": "code",
   "execution_count": 12,
   "metadata": {},
   "outputs": [
    {
     "data": {
      "text/plain": [
       "'\\ndf[\"ftr-1\"] = \"\"\\ndf[\"ftr-2\"] = \"\"\\ndf[\"ftr-3\"] = \"\"\\ndf[\"ftr-4\"] = \"\"\\ndf[\"ftr-5\"] = \"\"\\ndf[\"ftr-6\"] = \"\"\\ndf[\"ftr-7\"] = \"\"\\ndf[\"ftr-8\"] = \"\"\\ndf[\"ftr-9\"] = \"\"\\ndf[\"ftr-10\"] = \"\"\\n'"
      ]
     },
     "execution_count": 12,
     "metadata": {},
     "output_type": "execute_result"
    }
   ],
   "source": [
    "\"\"\"\n",
    "df[\"ftr-1\"] = \"\"\n",
    "df[\"ftr-2\"] = \"\"\n",
    "df[\"ftr-3\"] = \"\"\n",
    "df[\"ftr-4\"] = \"\"\n",
    "df[\"ftr-5\"] = \"\"\n",
    "df[\"ftr-6\"] = \"\"\n",
    "df[\"ftr-7\"] = \"\"\n",
    "df[\"ftr-8\"] = \"\"\n",
    "df[\"ftr-9\"] = \"\"\n",
    "df[\"ftr-10\"] = \"\"\n",
    "\"\"\""
   ]
  },
  {
   "cell_type": "code",
   "execution_count": 13,
   "metadata": {},
   "outputs": [
    {
     "data": {
      "text/html": [
       "<div>\n",
       "<style scoped>\n",
       "    .dataframe tbody tr th:only-of-type {\n",
       "        vertical-align: middle;\n",
       "    }\n",
       "\n",
       "    .dataframe tbody tr th {\n",
       "        vertical-align: top;\n",
       "    }\n",
       "\n",
       "    .dataframe thead th {\n",
       "        text-align: right;\n",
       "    }\n",
       "</style>\n",
       "<table border=\"1\" class=\"dataframe\">\n",
       "  <thead>\n",
       "    <tr style=\"text-align: right;\">\n",
       "      <th></th>\n",
       "      <th>timestamp</th>\n",
       "      <th>ftr_vector</th>\n",
       "    </tr>\n",
       "  </thead>\n",
       "  <tbody>\n",
       "    <tr>\n",
       "      <th>0</th>\n",
       "      <td>1.607823e+09</td>\n",
       "      <td>[16.8, 16.9, 17.0, 17.1, 17.2, 17.1, 17.1, 17....</td>\n",
       "    </tr>\n",
       "    <tr>\n",
       "      <th>1</th>\n",
       "      <td>1.607824e+09</td>\n",
       "      <td>[16.9, 17.0, 17.1, 17.2, 17.1, 17.1, 17.1, 17....</td>\n",
       "    </tr>\n",
       "    <tr>\n",
       "      <th>2</th>\n",
       "      <td>1.607825e+09</td>\n",
       "      <td>[17.0, 17.1, 17.2, 17.1, 17.1, 17.1, 17.2, 17....</td>\n",
       "    </tr>\n",
       "    <tr>\n",
       "      <th>3</th>\n",
       "      <td>1.607826e+09</td>\n",
       "      <td>[17.1, 17.2, 17.1, 17.1, 17.1, 17.2, 17.3, 17....</td>\n",
       "    </tr>\n",
       "    <tr>\n",
       "      <th>4</th>\n",
       "      <td>1.607827e+09</td>\n",
       "      <td>[17.2, 17.1, 17.1, 17.1, 17.2, 17.3, 17.2, 17....</td>\n",
       "    </tr>\n",
       "  </tbody>\n",
       "</table>\n",
       "</div>"
      ],
      "text/plain": [
       "      timestamp                                         ftr_vector\n",
       "0  1.607823e+09  [16.8, 16.9, 17.0, 17.1, 17.2, 17.1, 17.1, 17....\n",
       "1  1.607824e+09  [16.9, 17.0, 17.1, 17.2, 17.1, 17.1, 17.1, 17....\n",
       "2  1.607825e+09  [17.0, 17.1, 17.2, 17.1, 17.1, 17.1, 17.2, 17....\n",
       "3  1.607826e+09  [17.1, 17.2, 17.1, 17.1, 17.1, 17.2, 17.3, 17....\n",
       "4  1.607827e+09  [17.2, 17.1, 17.1, 17.1, 17.2, 17.3, 17.2, 17...."
      ]
     },
     "execution_count": 13,
     "metadata": {},
     "output_type": "execute_result"
    }
   ],
   "source": [
    "df.head()"
   ]
  },
  {
   "cell_type": "code",
   "execution_count": 14,
   "metadata": {},
   "outputs": [
    {
     "data": {
      "text/plain": [
       "16.8"
      ]
     },
     "execution_count": 14,
     "metadata": {},
     "output_type": "execute_result"
    }
   ],
   "source": [
    "list(literal_eval(df[\"ftr_vector\"][0]))[0]"
   ]
  },
  {
   "cell_type": "code",
   "execution_count": 15,
   "metadata": {},
   "outputs": [],
   "source": [
    "df[\"ftr\"] = \"\""
   ]
  },
  {
   "cell_type": "code",
   "execution_count": 16,
   "metadata": {},
   "outputs": [
    {
     "data": {
      "text/plain": [
       "'\\nfor i in range(len(df)):\\n    df[\"ftr-1\"][i] = list(literal_eval(df[\"ftr_vector\"][i]))[0]\\n    df[\"ftr-2\"][i] = list(literal_eval(df[\"ftr_vector\"][i]))[1]\\n    df[\"ftr-3\"][i] = list(literal_eval(df[\"ftr_vector\"][i]))[2]\\n    df[\"ftr-4\"][i] = list(literal_eval(df[\"ftr_vector\"][i]))[3]\\n    df[\"ftr-5\"][i] = list(literal_eval(df[\"ftr_vector\"][i]))[4]\\n    df[\"ftr-6\"][i] = list(literal_eval(df[\"ftr_vector\"][i]))[5]\\n    df[\"ftr-7\"][i] = list(literal_eval(df[\"ftr_vector\"][i]))[6]\\n    df[\"ftr-8\"][i] = list(literal_eval(df[\"ftr_vector\"][i]))[7]\\n    df[\"ftr-9\"][i] = list(literal_eval(df[\"ftr_vector\"][i]))[8]\\n    df[\"ftr-10\"][i] = list(literal_eval(df[\"ftr_vector\"][i]))[9]\\n\\n'"
      ]
     },
     "execution_count": 16,
     "metadata": {},
     "output_type": "execute_result"
    }
   ],
   "source": [
    "\"\"\"\n",
    "for i in range(len(df)):\n",
    "    df[\"ftr-1\"][i] = list(literal_eval(df[\"ftr_vector\"][i]))[0]\n",
    "    df[\"ftr-2\"][i] = list(literal_eval(df[\"ftr_vector\"][i]))[1]\n",
    "    df[\"ftr-3\"][i] = list(literal_eval(df[\"ftr_vector\"][i]))[2]\n",
    "    df[\"ftr-4\"][i] = list(literal_eval(df[\"ftr_vector\"][i]))[3]\n",
    "    df[\"ftr-5\"][i] = list(literal_eval(df[\"ftr_vector\"][i]))[4]\n",
    "    df[\"ftr-6\"][i] = list(literal_eval(df[\"ftr_vector\"][i]))[5]\n",
    "    df[\"ftr-7\"][i] = list(literal_eval(df[\"ftr_vector\"][i]))[6]\n",
    "    df[\"ftr-8\"][i] = list(literal_eval(df[\"ftr_vector\"][i]))[7]\n",
    "    df[\"ftr-9\"][i] = list(literal_eval(df[\"ftr_vector\"][i]))[8]\n",
    "    df[\"ftr-10\"][i] = list(literal_eval(df[\"ftr_vector\"][i]))[9]\n",
    "\n",
    "\"\"\""
   ]
  },
  {
   "cell_type": "code",
   "execution_count": 17,
   "metadata": {},
   "outputs": [
    {
     "name": "stderr",
     "output_type": "stream",
     "text": [
      "/tmp/ipykernel_84237/4282913075.py:2: SettingWithCopyWarning: \n",
      "A value is trying to be set on a copy of a slice from a DataFrame\n",
      "\n",
      "See the caveats in the documentation: https://pandas.pydata.org/pandas-docs/stable/user_guide/indexing.html#returning-a-view-versus-a-copy\n",
      "  df[\"ftr\"][i] = literal_eval(df[\"ftr_vector\"][i])[0:2]\n"
     ]
    }
   ],
   "source": [
    "for i in range(len(df)):\n",
    "    df[\"ftr\"][i] = literal_eval(df[\"ftr_vector\"][i])[0:2]\n"
   ]
  },
  {
   "cell_type": "code",
   "execution_count": 18,
   "metadata": {},
   "outputs": [
    {
     "data": {
      "text/html": [
       "<div>\n",
       "<style scoped>\n",
       "    .dataframe tbody tr th:only-of-type {\n",
       "        vertical-align: middle;\n",
       "    }\n",
       "\n",
       "    .dataframe tbody tr th {\n",
       "        vertical-align: top;\n",
       "    }\n",
       "\n",
       "    .dataframe thead th {\n",
       "        text-align: right;\n",
       "    }\n",
       "</style>\n",
       "<table border=\"1\" class=\"dataframe\">\n",
       "  <thead>\n",
       "    <tr style=\"text-align: right;\">\n",
       "      <th></th>\n",
       "      <th>timestamp</th>\n",
       "      <th>ftr_vector</th>\n",
       "      <th>ftr</th>\n",
       "    </tr>\n",
       "  </thead>\n",
       "  <tbody>\n",
       "    <tr>\n",
       "      <th>0</th>\n",
       "      <td>1.607823e+09</td>\n",
       "      <td>[16.8, 16.9, 17.0, 17.1, 17.2, 17.1, 17.1, 17....</td>\n",
       "      <td>[16.8, 16.9]</td>\n",
       "    </tr>\n",
       "    <tr>\n",
       "      <th>1</th>\n",
       "      <td>1.607824e+09</td>\n",
       "      <td>[16.9, 17.0, 17.1, 17.2, 17.1, 17.1, 17.1, 17....</td>\n",
       "      <td>[16.9, 17.0]</td>\n",
       "    </tr>\n",
       "    <tr>\n",
       "      <th>2</th>\n",
       "      <td>1.607825e+09</td>\n",
       "      <td>[17.0, 17.1, 17.2, 17.1, 17.1, 17.1, 17.2, 17....</td>\n",
       "      <td>[17.0, 17.1]</td>\n",
       "    </tr>\n",
       "    <tr>\n",
       "      <th>3</th>\n",
       "      <td>1.607826e+09</td>\n",
       "      <td>[17.1, 17.2, 17.1, 17.1, 17.1, 17.2, 17.3, 17....</td>\n",
       "      <td>[17.1, 17.2]</td>\n",
       "    </tr>\n",
       "    <tr>\n",
       "      <th>4</th>\n",
       "      <td>1.607827e+09</td>\n",
       "      <td>[17.2, 17.1, 17.1, 17.1, 17.2, 17.3, 17.2, 17....</td>\n",
       "      <td>[17.2, 17.1]</td>\n",
       "    </tr>\n",
       "  </tbody>\n",
       "</table>\n",
       "</div>"
      ],
      "text/plain": [
       "      timestamp                                         ftr_vector  \\\n",
       "0  1.607823e+09  [16.8, 16.9, 17.0, 17.1, 17.2, 17.1, 17.1, 17....   \n",
       "1  1.607824e+09  [16.9, 17.0, 17.1, 17.2, 17.1, 17.1, 17.1, 17....   \n",
       "2  1.607825e+09  [17.0, 17.1, 17.2, 17.1, 17.1, 17.1, 17.2, 17....   \n",
       "3  1.607826e+09  [17.1, 17.2, 17.1, 17.1, 17.1, 17.2, 17.3, 17....   \n",
       "4  1.607827e+09  [17.2, 17.1, 17.1, 17.1, 17.2, 17.3, 17.2, 17....   \n",
       "\n",
       "            ftr  \n",
       "0  [16.8, 16.9]  \n",
       "1  [16.9, 17.0]  \n",
       "2  [17.0, 17.1]  \n",
       "3  [17.1, 17.2]  \n",
       "4  [17.2, 17.1]  "
      ]
     },
     "execution_count": 18,
     "metadata": {},
     "output_type": "execute_result"
    }
   ],
   "source": [
    "df.head()"
   ]
  },
  {
   "cell_type": "code",
   "execution_count": 19,
   "metadata": {},
   "outputs": [
    {
     "name": "stdout",
     "output_type": "stream",
     "text": [
      "8138\n"
     ]
    }
   ],
   "source": [
    "print(len(df))"
   ]
  },
  {
   "cell_type": "code",
   "execution_count": 20,
   "metadata": {},
   "outputs": [
    {
     "data": {
      "text/plain": [
       "'\\nY = np.zeros([8138,2])\\nfor i in range(Y.shape[0]):\\n    for j in range(Y.shape[1]):\\n        Y[i, j] = X[i][j]\\n\\n'"
      ]
     },
     "execution_count": 20,
     "metadata": {},
     "output_type": "execute_result"
    }
   ],
   "source": [
    "X = np.array(df[\"ftr\"])\n",
    "\n",
    "Y = np.vstack(X).reshape(-1, len(X[0]))\n",
    "\n",
    "\"\"\"\n",
    "Y = np.zeros([8138,2])\n",
    "for i in range(Y.shape[0]):\n",
    "    for j in range(Y.shape[1]):\n",
    "        Y[i, j] = X[i][j]\n",
    "\n",
    "\"\"\""
   ]
  },
  {
   "cell_type": "code",
   "execution_count": 21,
   "metadata": {},
   "outputs": [],
   "source": [
    "kmeans = KMeans(n_clusters=2).fit(Y)\n",
    "m = kmeans.labels_"
   ]
  },
  {
   "cell_type": "code",
   "execution_count": 22,
   "metadata": {},
   "outputs": [
    {
     "data": {
      "text/plain": [
       "0"
      ]
     },
     "execution_count": 22,
     "metadata": {},
     "output_type": "execute_result"
    }
   ],
   "source": [
    "kmeans.predict([[16.8, 16.9]])[0]"
   ]
  },
  {
   "cell_type": "code",
   "execution_count": 23,
   "metadata": {},
   "outputs": [
    {
     "data": {
      "text/plain": [
       "array([[17.43512215, 17.43410092],\n",
       "       [15.98377863, 15.9855598 ]])"
      ]
     },
     "execution_count": 23,
     "metadata": {},
     "output_type": "execute_result"
    }
   ],
   "source": [
    "kmeans.cluster_centers_"
   ]
  },
  {
   "cell_type": "code",
   "execution_count": 24,
   "metadata": {},
   "outputs": [],
   "source": [
    "euclidean_dist = distance.euclidean(\n",
    "    [16.8, 16.9], kmeans.cluster_centers_[kmeans.predict([[16.8, 16.9]])[0]]\n",
    ")\n",
    "if euclidean_dist < 3:\n",
    "    anomalous = False"
   ]
  },
  {
   "cell_type": "code",
   "execution_count": 25,
   "metadata": {},
   "outputs": [
    {
     "name": "stdout",
     "output_type": "stream",
     "text": [
      "[1]\n",
      "yes\n",
      "Anomalies: (array([ 65,  86,  94, 120, 144, 157, 171, 210, 254, 282, 355, 368, 378,\n",
      "       391, 405, 409, 424, 426, 438, 493, 496, 509, 510, 514, 543, 553,\n",
      "       570, 580, 594, 638, 644, 650, 665, 671, 683, 697, 700, 701, 703,\n",
      "       718, 739, 759, 811, 851, 865, 871, 898, 921, 945, 957]),)\n"
     ]
    }
   ],
   "source": [
    "import numpy as np\n",
    "from sklearn.svm import OneClassSVM\n",
    "\n",
    "# Generate a random dataset\n",
    "data = np.random.normal(0, 1, (1000, 2))\n",
    "\n",
    "\n",
    "# Train an One-Class SVM on the dataset\n",
    "svm = OneClassSVM(gamma=\"auto\").fit(data)\n",
    "\n",
    "# Predict the anomaly scores for each data point\n",
    "scores = svm.score_samples(data)\n",
    "\n",
    "\n",
    "# Define a threshold for anomaly detection\n",
    "threshold = np.percentile(scores, 5)\n",
    "\n",
    "# Identify anomalies\n",
    "anomalies = np.where(scores < threshold)\n",
    "\n",
    "print(svm.predict([[0.5, 0.5]]))\n",
    "if(svm.predict([[0.5, 0.5]])==1):\n",
    "    print('yes')\n",
    "\n",
    "# Print the indices of the anomalies\n",
    "print(\"Anomalies:\", anomalies)"
   ]
  },
  {
   "cell_type": "code",
   "execution_count": null,
   "metadata": {},
   "outputs": [],
   "source": []
  },
  {
   "cell_type": "code",
   "execution_count": 26,
   "metadata": {},
   "outputs": [
    {
     "name": "stdout",
     "output_type": "stream",
     "text": [
      "(15,)\n",
      "(1, 15)\n"
     ]
    }
   ],
   "source": [
    "k = np.arange(0, 15)\n",
    "k = np.array(k)\n",
    "\n",
    "print(k.shape)\n",
    "\n",
    "print(k.reshape(1, 15).shape)"
   ]
  },
  {
   "cell_type": "code",
   "execution_count": 27,
   "metadata": {},
   "outputs": [],
   "source": [
    "df = pd.read_csv('../data/sensor-cleaning-data/data3.csv', sep=';')\n",
    "\n"
   ]
  },
  {
   "cell_type": "code",
   "execution_count": 28,
   "metadata": {},
   "outputs": [
    {
     "data": {
      "text/html": [
       "<div>\n",
       "<style scoped>\n",
       "    .dataframe tbody tr th:only-of-type {\n",
       "        vertical-align: middle;\n",
       "    }\n",
       "\n",
       "    .dataframe tbody tr th {\n",
       "        vertical-align: top;\n",
       "    }\n",
       "\n",
       "    .dataframe thead th {\n",
       "        text-align: right;\n",
       "    }\n",
       "</style>\n",
       "<table border=\"1\" class=\"dataframe\">\n",
       "  <thead>\n",
       "    <tr style=\"text-align: right;\">\n",
       "      <th></th>\n",
       "      <th>offset</th>\n",
       "      <th>val</th>\n",
       "      <th>error</th>\n",
       "      <th>errorRate</th>\n",
       "    </tr>\n",
       "  </thead>\n",
       "  <tbody>\n",
       "    <tr>\n",
       "      <th>31411</th>\n",
       "      <td>314.12</td>\n",
       "      <td>0.020502</td>\n",
       "      <td>False</td>\n",
       "      <td>0.0</td>\n",
       "    </tr>\n",
       "    <tr>\n",
       "      <th>31412</th>\n",
       "      <td>314.13</td>\n",
       "      <td>0.003408</td>\n",
       "      <td>False</td>\n",
       "      <td>0.0</td>\n",
       "    </tr>\n",
       "    <tr>\n",
       "      <th>31413</th>\n",
       "      <td>314.14</td>\n",
       "      <td>-0.495102</td>\n",
       "      <td>False</td>\n",
       "      <td>0.0</td>\n",
       "    </tr>\n",
       "    <tr>\n",
       "      <th>31414</th>\n",
       "      <td>314.15</td>\n",
       "      <td>-0.449937</td>\n",
       "      <td>False</td>\n",
       "      <td>0.0</td>\n",
       "    </tr>\n",
       "    <tr>\n",
       "      <th>31415</th>\n",
       "      <td>314.16</td>\n",
       "      <td>0.293979</td>\n",
       "      <td>False</td>\n",
       "      <td>0.0</td>\n",
       "    </tr>\n",
       "  </tbody>\n",
       "</table>\n",
       "</div>"
      ],
      "text/plain": [
       "       offset       val  error  errorRate\n",
       "31411  314.12  0.020502  False        0.0\n",
       "31412  314.13  0.003408  False        0.0\n",
       "31413  314.14 -0.495102  False        0.0\n",
       "31414  314.15 -0.449937  False        0.0\n",
       "31415  314.16  0.293979  False        0.0"
      ]
     },
     "execution_count": 28,
     "metadata": {},
     "output_type": "execute_result"
    }
   ],
   "source": [
    "df.tail(5)"
   ]
  },
  {
   "cell_type": "code",
   "execution_count": 29,
   "metadata": {},
   "outputs": [],
   "source": [
    "columns = [\"timestamp\", \"ftr_vector\"]\n",
    "\n",
    "data_frame = pd.DataFrame(columns=columns)\n",
    "data_frame[\"timestamp\"] = df[\"offset\"] * 1000\n",
    "data_frame[\"ftr_vector\"] = df[\"val\"] "
   ]
  },
  {
   "cell_type": "code",
   "execution_count": 30,
   "metadata": {},
   "outputs": [
    {
     "data": {
      "text/html": [
       "<div>\n",
       "<style scoped>\n",
       "    .dataframe tbody tr th:only-of-type {\n",
       "        vertical-align: middle;\n",
       "    }\n",
       "\n",
       "    .dataframe tbody tr th {\n",
       "        vertical-align: top;\n",
       "    }\n",
       "\n",
       "    .dataframe thead th {\n",
       "        text-align: right;\n",
       "    }\n",
       "</style>\n",
       "<table border=\"1\" class=\"dataframe\">\n",
       "  <thead>\n",
       "    <tr style=\"text-align: right;\">\n",
       "      <th></th>\n",
       "      <th>timestamp</th>\n",
       "      <th>ftr_vector</th>\n",
       "    </tr>\n",
       "  </thead>\n",
       "  <tbody>\n",
       "    <tr>\n",
       "      <th>0</th>\n",
       "      <td>10.0</td>\n",
       "      <td>-0.811200</td>\n",
       "    </tr>\n",
       "    <tr>\n",
       "      <th>1</th>\n",
       "      <td>20.0</td>\n",
       "      <td>-0.112893</td>\n",
       "    </tr>\n",
       "    <tr>\n",
       "      <th>2</th>\n",
       "      <td>30.0</td>\n",
       "      <td>-0.215887</td>\n",
       "    </tr>\n",
       "    <tr>\n",
       "      <th>3</th>\n",
       "      <td>40.0</td>\n",
       "      <td>0.465387</td>\n",
       "    </tr>\n",
       "    <tr>\n",
       "      <th>4</th>\n",
       "      <td>50.0</td>\n",
       "      <td>-0.066045</td>\n",
       "    </tr>\n",
       "  </tbody>\n",
       "</table>\n",
       "</div>"
      ],
      "text/plain": [
       "   timestamp  ftr_vector\n",
       "0       10.0   -0.811200\n",
       "1       20.0   -0.112893\n",
       "2       30.0   -0.215887\n",
       "3       40.0    0.465387\n",
       "4       50.0   -0.066045"
      ]
     },
     "execution_count": 30,
     "metadata": {},
     "output_type": "execute_result"
    }
   ],
   "source": [
    "data_frame.head()"
   ]
  },
  {
   "cell_type": "code",
   "execution_count": 31,
   "metadata": {},
   "outputs": [],
   "source": [
    "data_frame.to_csv(\"../data/sensor-cleaning-data/cleaned/data3.csv\", index=False)"
   ]
  },
  {
   "cell_type": "code",
   "execution_count": null,
   "metadata": {},
   "outputs": [],
   "source": []
  }
 ],
 "metadata": {
  "kernelspec": {
   "display_name": "a_det2",
   "language": "python",
   "name": "python3"
  },
  "language_info": {
   "codemirror_mode": {
    "name": "ipython",
    "version": 3
   },
   "file_extension": ".py",
   "mimetype": "text/x-python",
   "name": "python",
   "nbconvert_exporter": "python",
   "pygments_lexer": "ipython3",
   "version": "3.8.18"
  }
 },
 "nbformat": 4,
 "nbformat_minor": 2
}
