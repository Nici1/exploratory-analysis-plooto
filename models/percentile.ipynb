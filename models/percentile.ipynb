{
 "cells": [
  {
   "cell_type": "code",
   "execution_count": 77,
   "metadata": {},
   "outputs": [
    {
     "name": "stdout",
     "output_type": "stream",
     "text": [
      "[12, 10, 15, 16, 5]\n",
      "[10, 15, 16, 5]\n"
     ]
    }
   ],
   "source": [
    "m = [12,10,15,16]\n",
    "m.append(5)\n",
    "print(m)\n",
    "m.pop(0)\n",
    "print(m)"
   ]
  },
  {
   "cell_type": "code",
   "execution_count": 78,
   "metadata": {},
   "outputs": [
    {
     "name": "stdout",
     "output_type": "stream",
     "text": [
      "[5, 16, 15, 10]\n"
     ]
    }
   ],
   "source": [
    "print(m[::-1])"
   ]
  },
  {
   "cell_type": "code",
   "execution_count": 79,
   "metadata": {},
   "outputs": [],
   "source": [
    "from ast import literal_eval"
   ]
  },
  {
   "cell_type": "code",
   "execution_count": 80,
   "metadata": {},
   "outputs": [
    {
     "name": "stdout",
     "output_type": "stream",
     "text": [
      "[16.8, 16.9, 17.0, 17.1, 17.2, 17.1, 17.1, 17.1, 17.2, 17.3]\n"
     ]
    }
   ],
   "source": [
    "m = \"[16.8, 16.9, 17.0, 17.1, 17.2, 17.1, 17.1, 17.1, 17.2, 17.3]\"\n",
    "print(literal_eval(m))"
   ]
  },
  {
   "cell_type": "code",
   "execution_count": 81,
   "metadata": {},
   "outputs": [
    {
     "data": {
      "text/html": [
       "<div>\n",
       "<style scoped>\n",
       "    .dataframe tbody tr th:only-of-type {\n",
       "        vertical-align: middle;\n",
       "    }\n",
       "\n",
       "    .dataframe tbody tr th {\n",
       "        vertical-align: top;\n",
       "    }\n",
       "\n",
       "    .dataframe thead th {\n",
       "        text-align: right;\n",
       "    }\n",
       "</style>\n",
       "<table border=\"1\" class=\"dataframe\">\n",
       "  <thead>\n",
       "    <tr style=\"text-align: right;\">\n",
       "      <th></th>\n",
       "      <th>0</th>\n",
       "      <th>1</th>\n",
       "      <th>2</th>\n",
       "      <th>3</th>\n",
       "      <th>4</th>\n",
       "    </tr>\n",
       "  </thead>\n",
       "  <tbody>\n",
       "    <tr>\n",
       "      <th>0</th>\n",
       "      <td>19.3</td>\n",
       "      <td>18.5</td>\n",
       "      <td>15.6</td>\n",
       "      <td>14.7</td>\n",
       "      <td>13.6</td>\n",
       "    </tr>\n",
       "  </tbody>\n",
       "</table>\n",
       "</div>"
      ],
      "text/plain": [
       "      0     1     2     3     4\n",
       "0  19.3  18.5  15.6  14.7  13.6"
      ]
     },
     "execution_count": 81,
     "metadata": {},
     "output_type": "execute_result"
    }
   ],
   "source": [
    "import pandas as pd\n",
    "import numpy as np\n",
    "from scipy.spatial import distance\n",
    "\n",
    "\n",
    "t = np.array([[19.3, 18.5, 15.6, 14.7, 13.6]])\n",
    "\n",
    "df = pd.DataFrame(t)\n",
    "df.head()"
   ]
  },
  {
   "cell_type": "code",
   "execution_count": 82,
   "metadata": {},
   "outputs": [
    {
     "name": "stdout",
     "output_type": "stream",
     "text": [
      "[17.6 14.5]\n"
     ]
    }
   ],
   "source": [
    "print(np.array(literal_eval('[17.6, 18.9, 14.5, 15.6, 18.9]'))[[0,2]])"
   ]
  },
  {
   "cell_type": "code",
   "execution_count": 83,
   "metadata": {},
   "outputs": [
    {
     "name": "stdout",
     "output_type": "stream",
     "text": [
      "<class 'str'>\n"
     ]
    }
   ],
   "source": [
    "print(type(\"[17.6, 18.9, 14.5, 15.6, 18.9]\"))"
   ]
  },
  {
   "cell_type": "code",
   "execution_count": 84,
   "metadata": {},
   "outputs": [
    {
     "name": "stdout",
     "output_type": "stream",
     "text": [
      "<class 'list'>\n",
      "[15.4, 23.5]\n",
      "[15.4 23.5]\n"
     ]
    }
   ],
   "source": [
    "t = [12.1, 15.4, 16.1, 17.8, 23.5, 15.5]\n",
    "print(type(t))\n",
    "print(list(np.array(t)[[1, 4]]))\n",
    "print(np.array(t)[[1, 4]])"
   ]
  },
  {
   "cell_type": "code",
   "execution_count": 85,
   "metadata": {},
   "outputs": [],
   "source": [
    "import pandas as pd\n",
    "from sklearn.cluster import KMeans"
   ]
  },
  {
   "cell_type": "code",
   "execution_count": 86,
   "metadata": {},
   "outputs": [
    {
     "data": {
      "text/html": [
       "<div>\n",
       "<style scoped>\n",
       "    .dataframe tbody tr th:only-of-type {\n",
       "        vertical-align: middle;\n",
       "    }\n",
       "\n",
       "    .dataframe tbody tr th {\n",
       "        vertical-align: top;\n",
       "    }\n",
       "\n",
       "    .dataframe thead th {\n",
       "        text-align: right;\n",
       "    }\n",
       "</style>\n",
       "<table border=\"1\" class=\"dataframe\">\n",
       "  <thead>\n",
       "    <tr style=\"text-align: right;\">\n",
       "      <th></th>\n",
       "      <th>timestamp</th>\n",
       "      <th>ftr_vector</th>\n",
       "    </tr>\n",
       "  </thead>\n",
       "  <tbody>\n",
       "    <tr>\n",
       "      <th>0</th>\n",
       "      <td>1.607823e+09</td>\n",
       "      <td>[16.8, 16.9, 17.0, 17.1, 17.2, 17.1, 17.1, 17....</td>\n",
       "    </tr>\n",
       "    <tr>\n",
       "      <th>1</th>\n",
       "      <td>1.607824e+09</td>\n",
       "      <td>[16.9, 17.0, 17.1, 17.2, 17.1, 17.1, 17.1, 17....</td>\n",
       "    </tr>\n",
       "    <tr>\n",
       "      <th>2</th>\n",
       "      <td>1.607825e+09</td>\n",
       "      <td>[17.0, 17.1, 17.2, 17.1, 17.1, 17.1, 17.2, 17....</td>\n",
       "    </tr>\n",
       "    <tr>\n",
       "      <th>3</th>\n",
       "      <td>1.607826e+09</td>\n",
       "      <td>[17.1, 17.2, 17.1, 17.1, 17.1, 17.2, 17.3, 17....</td>\n",
       "    </tr>\n",
       "    <tr>\n",
       "      <th>4</th>\n",
       "      <td>1.607827e+09</td>\n",
       "      <td>[17.2, 17.1, 17.1, 17.1, 17.2, 17.3, 17.2, 17....</td>\n",
       "    </tr>\n",
       "  </tbody>\n",
       "</table>\n",
       "</div>"
      ],
      "text/plain": [
       "      timestamp                                         ftr_vector\n",
       "0  1.607823e+09  [16.8, 16.9, 17.0, 17.1, 17.2, 17.1, 17.1, 17....\n",
       "1  1.607824e+09  [16.9, 17.0, 17.1, 17.2, 17.1, 17.1, 17.1, 17....\n",
       "2  1.607825e+09  [17.0, 17.1, 17.2, 17.1, 17.1, 17.1, 17.2, 17....\n",
       "3  1.607826e+09  [17.1, 17.2, 17.1, 17.1, 17.1, 17.2, 17.3, 17....\n",
       "4  1.607827e+09  [17.2, 17.1, 17.1, 17.1, 17.2, 17.3, 17.2, 17...."
      ]
     },
     "execution_count": 86,
     "metadata": {},
     "output_type": "execute_result"
    }
   ],
   "source": [
    "df = pd.read_csv('../data/training/braila_pressure5770.csv')\n",
    "df.head()"
   ]
  },
  {
   "cell_type": "code",
   "execution_count": 87,
   "metadata": {},
   "outputs": [
    {
     "data": {
      "text/plain": [
       "[16.8, 16.9, 17.0, 17.1, 17.2, 17.1, 17.1, 17.1, 17.2, 17.3]"
      ]
     },
     "execution_count": 87,
     "metadata": {},
     "output_type": "execute_result"
    }
   ],
   "source": [
    "literal_eval(df['ftr_vector'][0])"
   ]
  },
  {
   "cell_type": "code",
   "execution_count": 88,
   "metadata": {},
   "outputs": [
    {
     "data": {
      "text/plain": [
       "'\\ndf[\"ftr-1\"] = \"\"\\ndf[\"ftr-2\"] = \"\"\\ndf[\"ftr-3\"] = \"\"\\ndf[\"ftr-4\"] = \"\"\\ndf[\"ftr-5\"] = \"\"\\ndf[\"ftr-6\"] = \"\"\\ndf[\"ftr-7\"] = \"\"\\ndf[\"ftr-8\"] = \"\"\\ndf[\"ftr-9\"] = \"\"\\ndf[\"ftr-10\"] = \"\"\\n'"
      ]
     },
     "execution_count": 88,
     "metadata": {},
     "output_type": "execute_result"
    }
   ],
   "source": [
    "\"\"\"\n",
    "df[\"ftr-1\"] = \"\"\n",
    "df[\"ftr-2\"] = \"\"\n",
    "df[\"ftr-3\"] = \"\"\n",
    "df[\"ftr-4\"] = \"\"\n",
    "df[\"ftr-5\"] = \"\"\n",
    "df[\"ftr-6\"] = \"\"\n",
    "df[\"ftr-7\"] = \"\"\n",
    "df[\"ftr-8\"] = \"\"\n",
    "df[\"ftr-9\"] = \"\"\n",
    "df[\"ftr-10\"] = \"\"\n",
    "\"\"\""
   ]
  },
  {
   "cell_type": "code",
   "execution_count": 89,
   "metadata": {},
   "outputs": [
    {
     "data": {
      "text/html": [
       "<div>\n",
       "<style scoped>\n",
       "    .dataframe tbody tr th:only-of-type {\n",
       "        vertical-align: middle;\n",
       "    }\n",
       "\n",
       "    .dataframe tbody tr th {\n",
       "        vertical-align: top;\n",
       "    }\n",
       "\n",
       "    .dataframe thead th {\n",
       "        text-align: right;\n",
       "    }\n",
       "</style>\n",
       "<table border=\"1\" class=\"dataframe\">\n",
       "  <thead>\n",
       "    <tr style=\"text-align: right;\">\n",
       "      <th></th>\n",
       "      <th>timestamp</th>\n",
       "      <th>ftr_vector</th>\n",
       "    </tr>\n",
       "  </thead>\n",
       "  <tbody>\n",
       "    <tr>\n",
       "      <th>0</th>\n",
       "      <td>1.607823e+09</td>\n",
       "      <td>[16.8, 16.9, 17.0, 17.1, 17.2, 17.1, 17.1, 17....</td>\n",
       "    </tr>\n",
       "    <tr>\n",
       "      <th>1</th>\n",
       "      <td>1.607824e+09</td>\n",
       "      <td>[16.9, 17.0, 17.1, 17.2, 17.1, 17.1, 17.1, 17....</td>\n",
       "    </tr>\n",
       "    <tr>\n",
       "      <th>2</th>\n",
       "      <td>1.607825e+09</td>\n",
       "      <td>[17.0, 17.1, 17.2, 17.1, 17.1, 17.1, 17.2, 17....</td>\n",
       "    </tr>\n",
       "    <tr>\n",
       "      <th>3</th>\n",
       "      <td>1.607826e+09</td>\n",
       "      <td>[17.1, 17.2, 17.1, 17.1, 17.1, 17.2, 17.3, 17....</td>\n",
       "    </tr>\n",
       "    <tr>\n",
       "      <th>4</th>\n",
       "      <td>1.607827e+09</td>\n",
       "      <td>[17.2, 17.1, 17.1, 17.1, 17.2, 17.3, 17.2, 17....</td>\n",
       "    </tr>\n",
       "  </tbody>\n",
       "</table>\n",
       "</div>"
      ],
      "text/plain": [
       "      timestamp                                         ftr_vector\n",
       "0  1.607823e+09  [16.8, 16.9, 17.0, 17.1, 17.2, 17.1, 17.1, 17....\n",
       "1  1.607824e+09  [16.9, 17.0, 17.1, 17.2, 17.1, 17.1, 17.1, 17....\n",
       "2  1.607825e+09  [17.0, 17.1, 17.2, 17.1, 17.1, 17.1, 17.2, 17....\n",
       "3  1.607826e+09  [17.1, 17.2, 17.1, 17.1, 17.1, 17.2, 17.3, 17....\n",
       "4  1.607827e+09  [17.2, 17.1, 17.1, 17.1, 17.2, 17.3, 17.2, 17...."
      ]
     },
     "execution_count": 89,
     "metadata": {},
     "output_type": "execute_result"
    }
   ],
   "source": [
    "df.head()"
   ]
  },
  {
   "cell_type": "code",
   "execution_count": 90,
   "metadata": {},
   "outputs": [
    {
     "data": {
      "text/plain": [
       "16.8"
      ]
     },
     "execution_count": 90,
     "metadata": {},
     "output_type": "execute_result"
    }
   ],
   "source": [
    "list(literal_eval(df[\"ftr_vector\"][0]))[0]"
   ]
  },
  {
   "cell_type": "code",
   "execution_count": 91,
   "metadata": {},
   "outputs": [],
   "source": [
    "df[\"ftr\"] = \"\""
   ]
  },
  {
   "cell_type": "code",
   "execution_count": 92,
   "metadata": {},
   "outputs": [
    {
     "data": {
      "text/plain": [
       "'\\nfor i in range(len(df)):\\n    df[\"ftr-1\"][i] = list(literal_eval(df[\"ftr_vector\"][i]))[0]\\n    df[\"ftr-2\"][i] = list(literal_eval(df[\"ftr_vector\"][i]))[1]\\n    df[\"ftr-3\"][i] = list(literal_eval(df[\"ftr_vector\"][i]))[2]\\n    df[\"ftr-4\"][i] = list(literal_eval(df[\"ftr_vector\"][i]))[3]\\n    df[\"ftr-5\"][i] = list(literal_eval(df[\"ftr_vector\"][i]))[4]\\n    df[\"ftr-6\"][i] = list(literal_eval(df[\"ftr_vector\"][i]))[5]\\n    df[\"ftr-7\"][i] = list(literal_eval(df[\"ftr_vector\"][i]))[6]\\n    df[\"ftr-8\"][i] = list(literal_eval(df[\"ftr_vector\"][i]))[7]\\n    df[\"ftr-9\"][i] = list(literal_eval(df[\"ftr_vector\"][i]))[8]\\n    df[\"ftr-10\"][i] = list(literal_eval(df[\"ftr_vector\"][i]))[9]\\n\\n'"
      ]
     },
     "execution_count": 92,
     "metadata": {},
     "output_type": "execute_result"
    }
   ],
   "source": [
    "\"\"\"\n",
    "for i in range(len(df)):\n",
    "    df[\"ftr-1\"][i] = list(literal_eval(df[\"ftr_vector\"][i]))[0]\n",
    "    df[\"ftr-2\"][i] = list(literal_eval(df[\"ftr_vector\"][i]))[1]\n",
    "    df[\"ftr-3\"][i] = list(literal_eval(df[\"ftr_vector\"][i]))[2]\n",
    "    df[\"ftr-4\"][i] = list(literal_eval(df[\"ftr_vector\"][i]))[3]\n",
    "    df[\"ftr-5\"][i] = list(literal_eval(df[\"ftr_vector\"][i]))[4]\n",
    "    df[\"ftr-6\"][i] = list(literal_eval(df[\"ftr_vector\"][i]))[5]\n",
    "    df[\"ftr-7\"][i] = list(literal_eval(df[\"ftr_vector\"][i]))[6]\n",
    "    df[\"ftr-8\"][i] = list(literal_eval(df[\"ftr_vector\"][i]))[7]\n",
    "    df[\"ftr-9\"][i] = list(literal_eval(df[\"ftr_vector\"][i]))[8]\n",
    "    df[\"ftr-10\"][i] = list(literal_eval(df[\"ftr_vector\"][i]))[9]\n",
    "\n",
    "\"\"\""
   ]
  },
  {
   "cell_type": "code",
   "execution_count": 93,
   "metadata": {},
   "outputs": [
    {
     "name": "stderr",
     "output_type": "stream",
     "text": [
      "/tmp/ipykernel_109868/4282913075.py:2: SettingWithCopyWarning: \n",
      "A value is trying to be set on a copy of a slice from a DataFrame\n",
      "\n",
      "See the caveats in the documentation: https://pandas.pydata.org/pandas-docs/stable/user_guide/indexing.html#returning-a-view-versus-a-copy\n",
      "  df[\"ftr\"][i] = literal_eval(df[\"ftr_vector\"][i])[0:2]\n"
     ]
    }
   ],
   "source": [
    "for i in range(len(df)):\n",
    "    df[\"ftr\"][i] = literal_eval(df[\"ftr_vector\"][i])[0:2]\n"
   ]
  },
  {
   "cell_type": "code",
   "execution_count": 94,
   "metadata": {},
   "outputs": [
    {
     "data": {
      "text/html": [
       "<div>\n",
       "<style scoped>\n",
       "    .dataframe tbody tr th:only-of-type {\n",
       "        vertical-align: middle;\n",
       "    }\n",
       "\n",
       "    .dataframe tbody tr th {\n",
       "        vertical-align: top;\n",
       "    }\n",
       "\n",
       "    .dataframe thead th {\n",
       "        text-align: right;\n",
       "    }\n",
       "</style>\n",
       "<table border=\"1\" class=\"dataframe\">\n",
       "  <thead>\n",
       "    <tr style=\"text-align: right;\">\n",
       "      <th></th>\n",
       "      <th>timestamp</th>\n",
       "      <th>ftr_vector</th>\n",
       "      <th>ftr</th>\n",
       "    </tr>\n",
       "  </thead>\n",
       "  <tbody>\n",
       "    <tr>\n",
       "      <th>0</th>\n",
       "      <td>1.607823e+09</td>\n",
       "      <td>[16.8, 16.9, 17.0, 17.1, 17.2, 17.1, 17.1, 17....</td>\n",
       "      <td>[16.8, 16.9]</td>\n",
       "    </tr>\n",
       "    <tr>\n",
       "      <th>1</th>\n",
       "      <td>1.607824e+09</td>\n",
       "      <td>[16.9, 17.0, 17.1, 17.2, 17.1, 17.1, 17.1, 17....</td>\n",
       "      <td>[16.9, 17.0]</td>\n",
       "    </tr>\n",
       "    <tr>\n",
       "      <th>2</th>\n",
       "      <td>1.607825e+09</td>\n",
       "      <td>[17.0, 17.1, 17.2, 17.1, 17.1, 17.1, 17.2, 17....</td>\n",
       "      <td>[17.0, 17.1]</td>\n",
       "    </tr>\n",
       "    <tr>\n",
       "      <th>3</th>\n",
       "      <td>1.607826e+09</td>\n",
       "      <td>[17.1, 17.2, 17.1, 17.1, 17.1, 17.2, 17.3, 17....</td>\n",
       "      <td>[17.1, 17.2]</td>\n",
       "    </tr>\n",
       "    <tr>\n",
       "      <th>4</th>\n",
       "      <td>1.607827e+09</td>\n",
       "      <td>[17.2, 17.1, 17.1, 17.1, 17.2, 17.3, 17.2, 17....</td>\n",
       "      <td>[17.2, 17.1]</td>\n",
       "    </tr>\n",
       "  </tbody>\n",
       "</table>\n",
       "</div>"
      ],
      "text/plain": [
       "      timestamp                                         ftr_vector  \\\n",
       "0  1.607823e+09  [16.8, 16.9, 17.0, 17.1, 17.2, 17.1, 17.1, 17....   \n",
       "1  1.607824e+09  [16.9, 17.0, 17.1, 17.2, 17.1, 17.1, 17.1, 17....   \n",
       "2  1.607825e+09  [17.0, 17.1, 17.2, 17.1, 17.1, 17.1, 17.2, 17....   \n",
       "3  1.607826e+09  [17.1, 17.2, 17.1, 17.1, 17.1, 17.2, 17.3, 17....   \n",
       "4  1.607827e+09  [17.2, 17.1, 17.1, 17.1, 17.2, 17.3, 17.2, 17....   \n",
       "\n",
       "            ftr  \n",
       "0  [16.8, 16.9]  \n",
       "1  [16.9, 17.0]  \n",
       "2  [17.0, 17.1]  \n",
       "3  [17.1, 17.2]  \n",
       "4  [17.2, 17.1]  "
      ]
     },
     "execution_count": 94,
     "metadata": {},
     "output_type": "execute_result"
    }
   ],
   "source": [
    "df.head()"
   ]
  },
  {
   "cell_type": "code",
   "execution_count": 95,
   "metadata": {},
   "outputs": [
    {
     "name": "stdout",
     "output_type": "stream",
     "text": [
      "8138\n"
     ]
    }
   ],
   "source": [
    "print(len(df))"
   ]
  },
  {
   "cell_type": "code",
   "execution_count": 96,
   "metadata": {},
   "outputs": [
    {
     "data": {
      "text/plain": [
       "'\\nY = np.zeros([8138,2])\\nfor i in range(Y.shape[0]):\\n    for j in range(Y.shape[1]):\\n        Y[i, j] = X[i][j]\\n\\n'"
      ]
     },
     "execution_count": 96,
     "metadata": {},
     "output_type": "execute_result"
    }
   ],
   "source": [
    "X = np.array(df[\"ftr\"])\n",
    "\n",
    "Y = np.vstack(X).reshape(-1, len(X[0]))\n",
    "\n",
    "\"\"\"\n",
    "Y = np.zeros([8138,2])\n",
    "for i in range(Y.shape[0]):\n",
    "    for j in range(Y.shape[1]):\n",
    "        Y[i, j] = X[i][j]\n",
    "\n",
    "\"\"\""
   ]
  },
  {
   "cell_type": "code",
   "execution_count": 97,
   "metadata": {},
   "outputs": [],
   "source": [
    "kmeans = KMeans(n_clusters=2).fit(Y)\n",
    "m = kmeans.labels_"
   ]
  },
  {
   "cell_type": "code",
   "execution_count": 98,
   "metadata": {},
   "outputs": [
    {
     "data": {
      "text/plain": [
       "1"
      ]
     },
     "execution_count": 98,
     "metadata": {},
     "output_type": "execute_result"
    }
   ],
   "source": [
    "kmeans.predict([[16.8, 16.9]])[0]"
   ]
  },
  {
   "cell_type": "code",
   "execution_count": 101,
   "metadata": {},
   "outputs": [
    {
     "data": {
      "text/plain": [
       "array([[15.98377863, 15.9855598 ],\n",
       "       [17.43512215, 17.43410092]])"
      ]
     },
     "execution_count": 101,
     "metadata": {},
     "output_type": "execute_result"
    }
   ],
   "source": [
    "kmeans.cluster_centers_"
   ]
  },
  {
   "cell_type": "code",
   "execution_count": 100,
   "metadata": {},
   "outputs": [],
   "source": [
    "euclidean_dist = distance.euclidean(\n",
    "    [16.8, 16.9], kmeans.cluster_centers_[kmeans.predict([[16.8, 16.9]])[0]]\n",
    ")\n",
    "if euclidean_dist < 3:\n",
    "    anomalous = False"
   ]
  },
  {
   "cell_type": "code",
   "execution_count": 110,
   "metadata": {},
   "outputs": [
    {
     "name": "stdout",
     "output_type": "stream",
     "text": [
      "[1]\n",
      "yes\n",
      "Anomalies: (array([  1,   7,  10,  14,  22, 112, 140, 180, 188, 196, 197, 215, 230,\n",
      "       271, 279, 296, 314, 323, 335, 339, 354, 363, 372, 414, 416, 431,\n",
      "       438, 464, 508, 517, 543, 602, 635, 640, 641, 662, 666, 695, 709,\n",
      "       722, 738, 794, 809, 835, 867, 900, 910, 958, 977, 984]),)\n"
     ]
    }
   ],
   "source": [
    "import numpy as np\n",
    "from sklearn.svm import OneClassSVM\n",
    "\n",
    "# Generate a random dataset\n",
    "data = np.random.normal(0, 1, (1000, 2))\n",
    "\n",
    "\n",
    "# Train an One-Class SVM on the dataset\n",
    "svm = OneClassSVM(gamma=\"auto\").fit(data)\n",
    "\n",
    "# Predict the anomaly scores for each data point\n",
    "scores = svm.score_samples(data)\n",
    "\n",
    "\n",
    "# Define a threshold for anomaly detection\n",
    "threshold = np.percentile(scores, 5)\n",
    "\n",
    "# Identify anomalies\n",
    "anomalies = np.where(scores < threshold)\n",
    "\n",
    "print(svm.predict([[0.5, 0.5]]))\n",
    "if(svm.predict([[0.5, 0.5]])==1):\n",
    "    print('yes')\n",
    "\n",
    "# Print the indices of the anomalies\n",
    "print(\"Anomalies:\", anomalies)"
   ]
  },
  {
   "cell_type": "code",
   "execution_count": null,
   "metadata": {},
   "outputs": [],
   "source": []
  }
 ],
 "metadata": {
  "kernelspec": {
   "display_name": "a_det2",
   "language": "python",
   "name": "python3"
  },
  "language_info": {
   "codemirror_mode": {
    "name": "ipython",
    "version": 3
   },
   "file_extension": ".py",
   "mimetype": "text/x-python",
   "name": "python",
   "nbconvert_exporter": "python",
   "pygments_lexer": "ipython3",
   "version": "3.8.18"
  }
 },
 "nbformat": 4,
 "nbformat_minor": 2
}
