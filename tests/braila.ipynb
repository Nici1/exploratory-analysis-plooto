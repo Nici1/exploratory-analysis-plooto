{
 "cells": [
  {
   "cell_type": "code",
   "execution_count": null,
   "metadata": {},
   "outputs": [],
   "source": [
    "import pandas as pd\n",
    "import plotly.express as px"
   ]
  },
  {
   "cell_type": "code",
   "execution_count": null,
   "metadata": {},
   "outputs": [],
   "source": [
    "df = pd.read_csv(\"../data/consumer/braila_test.csv\")\n",
    "display(df)"
   ]
  },
  {
   "cell_type": "code",
   "execution_count": null,
   "metadata": {},
   "outputs": [],
   "source": [
    "fig = px.line(df, x = 'timestamp', y = 'analog2', title='Braila data')\n",
    "fig.show()"
   ]
  },
  {
   "cell_type": "code",
   "execution_count": null,
   "metadata": {},
   "outputs": [],
   "source": [
    "df_border = pd.read_csv(\"../log/braila_bordercheck.csv\")\n",
    "\n",
    "# make status code as discrete value\n",
    "df_border[\"status_code\"] = df_border[\"status_code\"].astype(str)\n",
    "\n",
    "# make graph\n",
    "fig = px.scatter(df_border, x=\"timestamp\", y=\"value\", color=\"status_code\", hover_data=['status'], color_discrete_sequence=[\"green\", \"yellow\", \"red\"])\n",
    "fig.show()"
   ]
  },
  {
   "cell_type": "code",
   "execution_count": null,
   "metadata": {},
   "outputs": [],
   "source": [
    "df_welford = pd.read_csv(\"../log/braila_welford.csv\")\n",
    "\n",
    "# make status code as discrete value\n",
    "df_welford[\"status_code\"] = df_welford[\"status_code\"].astype(str)\n",
    "\n",
    "# make graph\n",
    "fig = px.scatter(df_welford, x=\"timestamp\", y=\"value\", color=\"status_code\", hover_data=['status'], color_discrete_sequence=[\"blue\", \"green\", \"yellow\", \"red\"])\n",
    "fig.show()"
   ]
  },
  {
   "cell_type": "code",
   "execution_count": null,
   "metadata": {},
   "outputs": [],
   "source": [
    "df_welford_unlimited = pd.read_csv(\"../log/braila_welford_unlimited.csv\")\n",
    "\n",
    "# make status code as discrete value\n",
    "df_welford_unlimited[\"status_code\"] = df_welford_unlimited[\"status_code\"].astype(str)\n",
    "\n",
    "# make graph\n",
    "fig = px.scatter(df_welford_unlimited, x=\"timestamp\", y=\"value\", color=\"status_code\", hover_data=['status'], color_discrete_sequence=[\"blue\", \"green\", \"red\", \"yellow\"])\n",
    "fig.show()"
   ]
  },
  {
   "cell_type": "code",
   "execution_count": null,
   "metadata": {},
   "outputs": [],
   "source": [
    "df_filtering = pd.read_csv(\"../log/braila_filtering.csv\")\n",
    "\n",
    "# make status code as discrete value\n",
    "df_filtering[\"status_code\"] = df_filtering[\"status_code\"].astype(str)\n",
    "\n",
    "# make graph\n",
    "fig = px.scatter(df_filtering, x=\"timestamp\", y=\"value\", color=\"status_code\", hover_data=['status'], color_discrete_sequence=[\"red\", \"green\", \"yellow\"])\n",
    "fig.show()"
   ]
  },
  {
   "cell_type": "code",
   "execution_count": null,
   "metadata": {},
   "outputs": [],
   "source": []
  }
 ],
 "metadata": {
  "kernelspec": {
   "display_name": "Python 3",
   "language": "python",
   "name": "python3"
  },
  "language_info": {
   "codemirror_mode": {
    "name": "ipython",
    "version": 3
   },
   "file_extension": ".py",
   "mimetype": "text/x-python",
   "name": "python",
   "nbconvert_exporter": "python",
   "pygments_lexer": "ipython3",
   "version": "3.8.5"
  }
 },
 "nbformat": 4,
 "nbformat_minor": 2
}
