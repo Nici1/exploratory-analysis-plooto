{
 "cells": [
  {
   "cell_type": "code",
   "execution_count": 1,
   "metadata": {},
   "outputs": [],
   "source": [
    "import pandas as pd\n",
    "import sklearn.metrics\n",
    "import matplotlib.pyplot as plt\n",
    "import numpy as np\n"
   ]
  },
  {
   "cell_type": "code",
   "execution_count": 3,
   "metadata": {},
   "outputs": [],
   "source": [
    "columns = [\"timestamp\", \"ftr_vector\"]\n",
    "\n",
    "\n",
    "for i in range(1,10):\n",
    "    df = pd.read_csv(f\"data/sensor-cleaning-data/raw/data{i}.csv\", \";\")\n",
    "\n",
    "    data_frame = pd.DataFrame(columns=columns)\n",
    "    data_frame[\"timestamp\"] = df[\"offset\"]\n",
    "    data_frame[\"ftr_vector\"] = df[\"val\"]\n",
    "\n",
    "    data_frame.to_csv(f\"data/sensor-cleaning-data/cleaned/data{i}.csv\", index=False)\n",
    "\n",
    "    data_frame.iloc[: int(0.7 * len(data_frame))].to_csv(f\"data/sensor-cleaning-data/cleaned/train/data{i}.csv\", index=False)\n",
    "    data_frame.iloc[int(0.7 * len(data_frame)):].to_csv(f\"data/sensor-cleaning-data/cleaned/test/data{i}.csv\", index=False)\n",
    "\n",
    "    df.iloc[int(0.7 * len(df)) :].reset_index(drop=True).to_csv(f\"data/sensor-cleaning-data/cleaned/test/reformatted/data{i}.csv\", index=False)"
   ]
  },
  {
   "cell_type": "code",
   "execution_count": null,
   "metadata": {},
   "outputs": [],
   "source": [
    "SVM_df1 = pd.read_csv(\"../log/SVM/sensor-cleaning-data/data1.csv\")\n",
    "SVM_df2 = pd.read_csv(\"../log/SVM/sensor-cleaning-data/data2.csv\")\n",
    "Kmeans_df1 = pd.read_csv(\"../log/Kmeans/sensor-cleaning-data/data1.csv\")\n",
    "Kmeans_df2 = pd.read_csv(\"../log/Kmeans/sensor-cleaning-data/data2.csv\")"
   ]
  },
  {
   "cell_type": "code",
   "execution_count": null,
   "metadata": {},
   "outputs": [],
   "source": [
    "SVM_df1[\"timestamp\"] = SVM_df1[\"timestamp\"] / 1000\n",
    "SVM_df2[\"timestamp\"] = SVM_df2[\"timestamp\"] / 1000\n",
    "\n",
    "Kmeans_df1[\"timestamp\"] = SVM_df1[\"timestamp\"] / 1000\n",
    "Kmeans_df2[\"timestamp\"] = SVM_df2[\"timestamp\"] / 1000"
   ]
  },
  {
   "cell_type": "code",
   "execution_count": null,
   "metadata": {},
   "outputs": [],
   "source": [
    "mask = SVM_df1[\"status_code\"] != 2\n",
    "mask2 = SVM_df2[\"status_code\"] != 2\n",
    "\n",
    "mask_Kmeans = Kmeans_df1[\"status_code\"] != 2\n",
    "mask2_Kmeans = Kmeans_df2[\"status_code\"] != 2\n",
    "\n",
    "\n",
    "# Use the mask to filter the rows in both DataFrames\n",
    "original_SVM_df1 = original_df1[mask]\n",
    "SVM_df1 = SVM_df1[mask]\n",
    "\n",
    "original_SVM_df2 = original_df2[mask2]\n",
    "SVM_df2 = SVM_df2[mask2]\n",
    "\n",
    "\n",
    "original_Kmeans_df1 = original_df1[mask_Kmeans]\n",
    "Kmeans_df1 = Kmeans_df1[mask_Kmeans]\n",
    "\n",
    "original_Kmeans_df2 = original_df2[mask2_Kmeans]\n",
    "Kmeans_df2 = Kmeans_df2[mask2_Kmeans]"
   ]
  },
  {
   "cell_type": "code",
   "execution_count": null,
   "metadata": {},
   "outputs": [],
   "source": []
  },
  {
   "cell_type": "code",
   "execution_count": null,
   "metadata": {},
   "outputs": [],
   "source": [
    "y_true_SVM_df1 = list()\n",
    "y_true_SVM_df2 = list()\n",
    "y_true_Kmeans_df1 = list()\n",
    "y_true_Kmeans_df2 = list()\n",
    "\n",
    "for index, row in original_SVM_df1.iterrows():\n",
    "    if row[\"errorRate\"] == 0.0:\n",
    "        y_true_SVM_df1.append(1)\n",
    "    else:\n",
    "        y_true_SVM_df1.append(-1)\n",
    "\n",
    "\n",
    "for index, row in original_SVM_df2.iterrows():\n",
    "    if row[\"errorRate\"] == 0.0:\n",
    "        y_true_SVM_df2.append(1)\n",
    "    else:\n",
    "        y_true_SVM_df2.append(-1)\n",
    "\n",
    "for index, row in original_Kmeans_df1.iterrows():\n",
    "    if row[\"errorRate\"] == 0.0:\n",
    "        y_true_Kmeans_df1.append(1)\n",
    "    else:\n",
    "        y_true_Kmeans_df1.append(-1)\n",
    "\n",
    "\n",
    "for index, row in original_Kmeans_df2.iterrows():\n",
    "    if row[\"errorRate\"] == 0.0:\n",
    "        y_true_Kmeans_df2.append(1)\n",
    "    else:\n",
    "        y_true_Kmeans_df2.append(-1)"
   ]
  },
  {
   "cell_type": "code",
   "execution_count": null,
   "metadata": {},
   "outputs": [],
   "source": [
    "y_predicted_SVM_1 = list(SVM_df1[\"status_code\"])\n",
    "y_predicted_SVM_2 = list(SVM_df2[\"status_code\"])\n",
    "y_predicted_Kmeans_1 = list(Kmeans_df1[\"status_code\"])\n",
    "y_predicted_Kmeans_2 = list(Kmeans_df2[\"status_code\"])"
   ]
  },
  {
   "cell_type": "code",
   "execution_count": null,
   "metadata": {},
   "outputs": [],
   "source": [
    "def compute_metrics(y_predicted, y_true):\n",
    "    confusion_matrix = sklearn.metrics.confusion_matrix(y_predicted, y_true)\n",
    "    precision = sklearn.metrics.precision_score(y_predicted, y_true)\n",
    "    recall = sklearn.metrics.recall_score(y_predicted, y_true)\n",
    "    f1 = sklearn.metrics.f1_score(y_predicted, y_true)\n",
    "\n",
    "\n",
    "    return [confusion_matrix, precision, recall, f1]"
   ]
  },
  {
   "cell_type": "code",
   "execution_count": null,
   "metadata": {},
   "outputs": [
    {
     "name": "stdout",
     "output_type": "stream",
     "text": [
      "KMEANS - df1  [1.0, 0.9909717348306004, 0.9954653976189332]\n",
      "KMEANS - df2  [1.0, 0.9913875598086125, 0.995675156174916]\n",
      "SVM - df1  [0.5033425467635149, 0.9971983444762814, 0.6690019009376537]\n",
      "SVM - df2  [0.5031800077091096, 0.9975165562913907, 0.668929882995986]\n"
     ]
    }
   ],
   "source": [
    "print(\"KMEANS - df1 \", compute_metrics(y_predicted_Kmeans_1, y_true_Kmeans_df1)[1:])\n",
    "print(\"KMEANS - df2 \", compute_metrics(y_predicted_Kmeans_2, y_true_Kmeans_df2)[1:])\n",
    "print(\"SVM - df1 \", compute_metrics(y_predicted_SVM_1, y_true_SVM_df1)[1:])\n",
    "print(\"SVM - df2 \", compute_metrics(y_predicted_SVM_2, y_true_SVM_df2)[1:])"
   ]
  },
  {
   "cell_type": "code",
   "execution_count": 21,
   "metadata": {},
   "outputs": [
    {
     "data": {
      "text/plain": [
       "float"
      ]
     },
     "execution_count": 21,
     "metadata": {},
     "output_type": "execute_result"
    }
   ],
   "source": [
    "type(m[:,0][-2][5])"
   ]
  },
  {
   "cell_type": "code",
   "execution_count": 5,
   "metadata": {},
   "outputs": [
    {
     "name": "stdout",
     "output_type": "stream",
     "text": [
      "Parent Variable\n",
      "Child Variable\n"
     ]
    }
   ],
   "source": [
    "class Parent:\n",
    "    def __init__(self):\n",
    "        self.parent_variable = \"Parent Variable\"\n",
    "\n",
    "\n",
    "class Child(Parent):\n",
    "    def __init__(self):\n",
    "        super().__init__()  # Call the parent class's constructor\n",
    "        self.child_variable = \"Child Variable\"\n",
    "\n",
    "\n",
    "# Create an instance of Child\n",
    "child = Child()\n",
    "\n",
    "# Access variables from both parent and child classes\n",
    "print(child.parent_variable)  # Output: Parent Variable\n",
    "print(child.child_variable)  # Output: Child Variable"
   ]
  },
  {
   "cell_type": "code",
   "execution_count": null,
   "metadata": {},
   "outputs": [],
   "source": []
  }
 ],
 "metadata": {
  "kernelspec": {
   "display_name": "a_det2",
   "language": "python",
   "name": "python3"
  },
  "language_info": {
   "codemirror_mode": {
    "name": "ipython",
    "version": 3
   },
   "file_extension": ".py",
   "mimetype": "text/x-python",
   "name": "python",
   "nbconvert_exporter": "python",
   "pygments_lexer": "ipython3",
   "version": "3.8.18"
  }
 },
 "nbformat": 4,
 "nbformat_minor": 2
}
